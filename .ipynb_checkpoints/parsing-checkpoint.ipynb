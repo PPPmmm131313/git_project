{
 "cells": [
  {
   "cell_type": "code",
   "execution_count": 34,
   "metadata": {},
   "outputs": [],
   "source": [
    "import requests\n",
    "from bs4 import BeautifulSoup\n",
    "import datetime"
   ]
  },
  {
   "cell_type": "code",
   "execution_count": 76,
   "metadata": {},
   "outputs": [
    {
     "name": "stdout",
     "output_type": "stream",
     "text": [
      "Курс доллар по курсу ЦБ на 21 нояб., 14:43 UTC : 76.21\n",
      "Курс евро по курсу ЦБ на 21 нояб., 14:43 UTC : 90.36\n"
     ]
    }
   ],
   "source": [
    "Dollar_rub = 'https://www.google.ru/search?newwindow=1&sxsrf=ALeKk00CGIqsvYlKeAslskUdBGGt11rFIA%3A1605979081454&source=hp&ei=yUu5X6aSGai5gwf9pLOYCw&q=dollar+rub&oq=dollar+rub&gs_lcp=CgZwc3ktYWIQAzIFCAAQywEyBQgAEMsBMgUIABDLATIFCAAQywEyBQgAEMsBMgIIADIFCAAQywEyBQgAEMsBMgUIABDLATIFCAAQywE6BAgjECc6BQgAELEDOggIABCxAxCDAToFCC4QsQM6BwgAEAoQywFQkAZY5idgwCloAHAAeACAAUuIAZsFkgECMTCYAQCgAQGqAQdnd3Mtd2l6&sclient=psy-ab&ved=0ahUKEwjmmqilkpTtAhWo3OAKHX3SDLMQ4dUDCAc&uact=5'\n",
    "Euro_rub = 'https://www.google.ru/search?newwindow=1&sxsrf=ALeKk00mr36I6KAV8ahHu38LzCKOKqFNtg%3A1605979087533&ei=z0u5X4CPIMSQrgS8qZaQBQ&q=euro+rub&oq=euro+rub&gs_lcp=CgZwc3ktYWIQAzIHCAAQsQMQQzIFCAAQywEyBQgAEMsBMgUIABDLATIFCAAQywEyBAgAEEMyBQgAEMsBMgUIABDLATIECAAQCjIHCAAQChDLAToECAAQRzoGCAAQBxAeOggIABAHEAoQHjoCCABQ9LABWPS4AWD9vAFoAHADeACAAVmIAa0CkgEBNJgBAKABAaoBB2d3cy13aXrIAQjAAQE&sclient=psy-ab&ved=0ahUKEwjAsp2okpTtAhVEiIsKHbyUBVIQ4dUDCA0&uact=5'\n",
    "headers = {'User-Agent': 'Mozilla/5.0 (Windows NT 10.0; Win64; x64) AppleWebKit/537.36 (KHTML, like Gecko) Chrome/86.0.4240.198 Safari/537.36'}\n",
    "\n",
    "## курс доллара\n",
    "full_page = requests.get(Dollar_rub, headers=headers )\n",
    "soup = BeautifulSoup(full_page.content, 'html.parser')\n",
    "convert = soup.findAll(\"span\", {\"class\":\"DFlfde\", \"class\": \"SwHCTb\"})\n",
    "rub_dollar = convert[0].text.replace(\",\",\".\")\n",
    "## курс евро\n",
    "full_page = requests.get(Euro_rub, headers=headers )\n",
    "soup = BeautifulSoup(full_page.content, 'html.parser')\n",
    "convert = soup.findAll(\"span\", {\"class\":\"DFlfde\", \"class\": \"SwHCTb\"})\n",
    "rub_euro = convert[0].text.replace(\",\",\".\")\n",
    "\n",
    "#время и дата\n",
    "full_page = requests.get(Euro_rub, headers=headers )\n",
    "soup = BeautifulSoup(full_page.content, 'html.parser')\n",
    "convert = soup.findAll(\"div\", {\"class\":\"hqAUc\"})\n",
    "print('Курс доллар по курсу ЦБ на ' + convert[0].text[0:20] + \": \" + rub_dollar)\n",
    "print('Курс евро по курсу ЦБ на ' + convert[0].text[0:20] + \": \" + rub_euro)\n"
   ]
  },
  {
   "cell_type": "code",
   "execution_count": null,
   "metadata": {},
   "outputs": [],
   "source": []
  },
  {
   "cell_type": "code",
   "execution_count": null,
   "metadata": {},
   "outputs": [],
   "source": []
  }
 ],
 "metadata": {
  "kernelspec": {
   "display_name": "Python 3",
   "language": "python",
   "name": "python3"
  },
  "language_info": {
   "codemirror_mode": {
    "name": "ipython",
    "version": 3
   },
   "file_extension": ".py",
   "mimetype": "text/x-python",
   "name": "python",
   "nbconvert_exporter": "python",
   "pygments_lexer": "ipython3",
   "version": "3.8.3"
  }
 },
 "nbformat": 4,
 "nbformat_minor": 4
}
