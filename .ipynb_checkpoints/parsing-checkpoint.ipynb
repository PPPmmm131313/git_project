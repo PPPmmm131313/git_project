{
 "cells": [
  {
   "cell_type": "code",
   "execution_count": 2,
   "metadata": {},
   "outputs": [],
   "source": [
    "import requests\n",
    "from bs4 import BeautifulSoup\n",
    "import datetime\n",
    "import ipywidgets as widgets\n",
    "from ipywidgets import Label, Layout"
   ]
  },
  {
   "cell_type": "code",
   "execution_count": 3,
   "metadata": {},
   "outputs": [],
   "source": [
    "Dollar_rub = 'https://www.google.ru/search?newwindow=1&sxsrf=ALeKk00CGIqsvYlKeAslskUdBGGt11rFIA%3A1605979081454&source=hp&ei=yUu5X6aSGai5gwf9pLOYCw&q=dollar+rub&oq=dollar+rub&gs_lcp=CgZwc3ktYWIQAzIFCAAQywEyBQgAEMsBMgUIABDLATIFCAAQywEyBQgAEMsBMgIIADIFCAAQywEyBQgAEMsBMgUIABDLATIFCAAQywE6BAgjECc6BQgAELEDOggIABCxAxCDAToFCC4QsQM6BwgAEAoQywFQkAZY5idgwCloAHAAeACAAUuIAZsFkgECMTCYAQCgAQGqAQdnd3Mtd2l6&sclient=psy-ab&ved=0ahUKEwjmmqilkpTtAhWo3OAKHX3SDLMQ4dUDCAc&uact=5'\n",
    "Euro_rub = 'https://www.google.ru/search?newwindow=1&sxsrf=ALeKk00mr36I6KAV8ahHu38LzCKOKqFNtg%3A1605979087533&ei=z0u5X4CPIMSQrgS8qZaQBQ&q=euro+rub&oq=euro+rub&gs_lcp=CgZwc3ktYWIQAzIHCAAQsQMQQzIFCAAQywEyBQgAEMsBMgUIABDLATIFCAAQywEyBAgAEEMyBQgAEMsBMgUIABDLATIECAAQCjIHCAAQChDLAToECAAQRzoGCAAQBxAeOggIABAHEAoQHjoCCABQ9LABWPS4AWD9vAFoAHADeACAAVmIAa0CkgEBNJgBAKABAaoBB2d3cy13aXrIAQjAAQE&sclient=psy-ab&ved=0ahUKEwjAsp2okpTtAhVEiIsKHbyUBVIQ4dUDCA0&uact=5'\n",
    "headers = {'User-Agent': 'Mozilla/5.0 (Windows NT 10.0; Win64; x64) AppleWebKit/537.36 (KHTML, like Gecko) Chrome/86.0.4240.198 Safari/537.36'}\n",
    "\n",
    "## курс доллара\n",
    "full_page = requests.get(Dollar_rub, headers=headers )\n",
    "soup = BeautifulSoup(full_page.content, 'html.parser')\n",
    "convert = soup.findAll(\"span\", {\"class\":\"DFlfde\", \"class\": \"SwHCTb\"})\n",
    "rub_dollar = convert[0].text.replace(\",\",\".\")\n",
    "## курс евро\n",
    "full_page = requests.get(Euro_rub, headers=headers )\n",
    "soup = BeautifulSoup(full_page.content, 'html.parser')\n",
    "convert = soup.findAll(\"span\", {\"class\":\"DFlfde\", \"class\": \"SwHCTb\"})\n",
    "rub_euro = convert[0].text.replace(\",\",\".\")\n",
    "\n",
    "#время и дата\n",
    "day = datetime.datetime.now()\n",
    "print('Dollar exchange rate for ' + day.strftime(\"%A, %d. %B %Y %I:%M %p\") + \" on the Central Bank : \" + rub_dollar )\n",
    "print('Euro exchange rate for ' +day.strftime(\"%A, %d. %B %Y %I:%M %p\") + \" on the Central Bank : \" + rub_euro )"
   ]
  },
  {
   "cell_type": "code",
   "execution_count": 4,
   "metadata": {},
   "outputs": [],
   "source": [
    "## где поменять\n",
    "\n",
    "d = {\"sell_dollar\":0, \"buy_dollar\":0, \"sell_euro\":0, \"buy_euro\":0}\n",
    "\n",
    "def parse_block(item):\n",
    "    value = item.select('div.table-flex__rate.font-size-large.color-pumpkin-orange')\n",
    "    if value != []:\n",
    "        name = item.find_all(\"a\", {\"class\":\"font-bold\" })[0].text\n",
    "        for i in value:\n",
    "            usd_eur = i.get('data-currencies-code')\n",
    "            val = i.get('data-currencies-rate-buy')\n",
    "            if val != None:\n",
    "                if usd_eur == 'USD':\n",
    "                    d['sell_dollar'] = [val, name]\n",
    "                else :\n",
    "                    d[\"sell_euro\"] = [val, name]\n",
    "        for i in value:\n",
    "            usd_eur = i.get('data-currencies-code')\n",
    "            val = i.get('data-currencies-rate-sell')\n",
    "            if val != None:\n",
    "                if usd_eur == 'USD':\n",
    "                    d['buy_dollar'] = [val, name]\n",
    "                else :\n",
    "                    d[\"buy_euro\"] = [val, name]\n",
    "\n",
    "\n",
    "Exchange = 'https://www.banki.ru/products/currency/cash/sankt-peterburg/'\n",
    "\n",
    "full_page = requests.get(Exchange, headers=headers )\n",
    "soup = BeautifulSoup(full_page.content, 'html.parser')\n",
    "container = soup.select('div.table-flex__row.item.calculator-hover-icon__container')\n",
    "for item in container:\n",
    "    block = parse_block(item)\n",
    "\n",
    "print('Better to buy dollar in \"' + d['buy_dollar'][1] + '\"; exchange rate: ' + d['buy_dollar'][0] )\n",
    "print('Better to sell dollar in \"' + d['sell_dollar'][1] + '\"; exchange rate: ' + d['sell_dollar'][0] )\n",
    "print()\n",
    "print('Better to buy euro in \"' + d['buy_euro'][1] + '\"; exchange rate: ' + d['buy_euro'][0] )\n",
    "print('Better to sell euro in \"' + d['sell_euro'][1] + '\"; exchange rate: ' + d['sell_euro'][0] )"
   ]
  },
  {
   "cell_type": "code",
   "execution_count": 5,
   "metadata": {},
   "outputs": [],
   "source": [
    "style = {'description_width': 'initial'}\n",
    "\n",
    "w1 = widgets.Dropdown(\n",
    "    options=['USD/RUB', 'EUR/RUB', 'RUB/USD', 'RUB/EUR' ],\n",
    "    value='USD/RUB',\n",
    "    description='Выберите валюту которую хотите купить/продать:',\n",
    "    disabled=False,\n",
    "    layout=Layout(width='40%', height='30px'), style=style)\n",
    "w2 = widgets.FloatText(description='Выберите сумму, которую хотите обменять',layout=Layout(width='40%', height='30px'), style=style)\n",
    "\n",
    "\n",
    "def pp(val1, val2):\n",
    "    if str(val1) == 'USD/RUB':\n",
    "        print(float('{:.3f}'.format(val2 / float(d['buy_dollar'][0]))),\"$\" + ' in \"' + d['buy_dollar'][1] +'\"')\n",
    "    elif str(val1) == 'EUR/RUB':\n",
    "        print(float('{:.3f}'.format(val2 / float(d['buy_euro'][0]))), \"€\" + ' in \"' + d['buy_euro'][1] +'\"')\n",
    "    elif str(val1) == 'RUB/USD':\n",
    "        print(float('{:.3f}'.format(val2 * float(d['sell_dollar'][0]))),\"₽\"  + ' in \"' + d['sell_dollar'][1] +'\"')\n",
    "    elif str(val1) == 'RUB/EUR':\n",
    "        print(float('{:.3f}'.format(val2 * float(d['sell_euro'][0]))),\"₽\" + ' in \"' + d['sell_euro'][1] +'\"')\n",
    "\n",
    "\n",
    "widgets.interact(pp, val1=w1, val2=w2) "
   ]
  },
  {
   "cell_type": "code",
   "execution_count": null,
   "metadata": {},
   "outputs": [],
   "source": []
  },
  {
   "cell_type": "code",
   "execution_count": null,
   "metadata": {},
   "outputs": [],
   "source": []
  },
  {
   "cell_type": "code",
   "execution_count": null,
   "metadata": {},
   "outputs": [],
   "source": []
  },
  {
   "cell_type": "code",
   "execution_count": null,
   "metadata": {},
   "outputs": [],
   "source": []
  },
  {
   "cell_type": "code",
   "execution_count": null,
   "metadata": {},
   "outputs": [],
   "source": []
  },
  {
   "cell_type": "code",
   "execution_count": null,
   "metadata": {},
   "outputs": [],
   "source": []
  },
  {
   "cell_type": "code",
   "execution_count": null,
   "metadata": {},
   "outputs": [],
   "source": []
  },
  {
   "cell_type": "code",
   "execution_count": null,
   "metadata": {},
   "outputs": [],
   "source": [
    "\n"
   ]
  },
  {
   "cell_type": "code",
   "execution_count": null,
   "metadata": {},
   "outputs": [],
   "source": []
  }
 ],
 "metadata": {
  "kernelspec": {
   "display_name": "Python 3",
   "language": "python",
   "name": "python3"
  },
  "language_info": {
   "codemirror_mode": {
    "name": "ipython",
    "version": 3
   },
   "file_extension": ".py",
   "mimetype": "text/x-python",
   "name": "python",
   "nbconvert_exporter": "python",
   "pygments_lexer": "ipython3",
   "version": "3.8.3"
  }
 },
 "nbformat": 4,
 "nbformat_minor": 4
}
